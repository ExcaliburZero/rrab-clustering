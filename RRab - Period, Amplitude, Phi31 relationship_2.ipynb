{
 "cells": [
  {
   "cell_type": "code",
   "execution_count": 1,
   "metadata": {
    "collapsed": false
   },
   "outputs": [
    {
     "data": {
      "text/html": [
       "<div>\n",
       "<style>\n",
       "    .dataframe thead tr:only-child th {\n",
       "        text-align: right;\n",
       "    }\n",
       "\n",
       "    .dataframe thead th {\n",
       "        text-align: left;\n",
       "    }\n",
       "\n",
       "    .dataframe tbody tr th {\n",
       "        vertical-align: top;\n",
       "    }\n",
       "</style>\n",
       "<table border=\"1\" class=\"dataframe\">\n",
       "  <thead>\n",
       "    <tr style=\"text-align: right;\">\n",
       "      <th></th>\n",
       "      <th>magnitude_Iband</th>\n",
       "      <th>magnitude_Vband</th>\n",
       "      <th>period</th>\n",
       "      <th>period_uncertainty</th>\n",
       "      <th>time_max_bright</th>\n",
       "      <th>amplitude_Iband</th>\n",
       "      <th>R21</th>\n",
       "      <th>phi21</th>\n",
       "      <th>R31</th>\n",
       "      <th>phi31</th>\n",
       "    </tr>\n",
       "  </thead>\n",
       "  <tbody>\n",
       "    <tr>\n",
       "      <th>count</th>\n",
       "      <td>4748.000000</td>\n",
       "      <td>4748.000000</td>\n",
       "      <td>4748.000000</td>\n",
       "      <td>4.748000e+03</td>\n",
       "      <td>4748.000000</td>\n",
       "      <td>4748.000000</td>\n",
       "      <td>4748.000000</td>\n",
       "      <td>4748.000000</td>\n",
       "      <td>4748.000000</td>\n",
       "      <td>4748.000000</td>\n",
       "    </tr>\n",
       "    <tr>\n",
       "      <th>mean</th>\n",
       "      <td>18.839039</td>\n",
       "      <td>19.415382</td>\n",
       "      <td>0.596560</td>\n",
       "      <td>2.803875e-06</td>\n",
       "      <td>6000.297409</td>\n",
       "      <td>0.504458</td>\n",
       "      <td>0.419089</td>\n",
       "      <td>4.294047</td>\n",
       "      <td>0.297968</td>\n",
       "      <td>2.460209</td>\n",
       "    </tr>\n",
       "    <tr>\n",
       "      <th>std</th>\n",
       "      <td>0.906234</td>\n",
       "      <td>0.915491</td>\n",
       "      <td>0.057343</td>\n",
       "      <td>3.421723e-06</td>\n",
       "      <td>0.175088</td>\n",
       "      <td>0.153931</td>\n",
       "      <td>0.060421</td>\n",
       "      <td>0.189534</td>\n",
       "      <td>0.070244</td>\n",
       "      <td>0.423121</td>\n",
       "    </tr>\n",
       "    <tr>\n",
       "      <th>min</th>\n",
       "      <td>12.048000</td>\n",
       "      <td>12.632000</td>\n",
       "      <td>0.374290</td>\n",
       "      <td>1.000000e-07</td>\n",
       "      <td>6000.000020</td>\n",
       "      <td>0.025000</td>\n",
       "      <td>0.125000</td>\n",
       "      <td>3.206000</td>\n",
       "      <td>0.024000</td>\n",
       "      <td>0.395000</td>\n",
       "    </tr>\n",
       "    <tr>\n",
       "      <th>25%</th>\n",
       "      <td>18.918000</td>\n",
       "      <td>19.489000</td>\n",
       "      <td>0.561476</td>\n",
       "      <td>1.200000e-06</td>\n",
       "      <td>6000.148912</td>\n",
       "      <td>0.393000</td>\n",
       "      <td>0.382000</td>\n",
       "      <td>4.163750</td>\n",
       "      <td>0.255000</td>\n",
       "      <td>2.158000</td>\n",
       "    </tr>\n",
       "    <tr>\n",
       "      <th>50%</th>\n",
       "      <td>19.062000</td>\n",
       "      <td>19.637000</td>\n",
       "      <td>0.596877</td>\n",
       "      <td>2.000000e-06</td>\n",
       "      <td>6000.294415</td>\n",
       "      <td>0.497000</td>\n",
       "      <td>0.421000</td>\n",
       "      <td>4.266000</td>\n",
       "      <td>0.310000</td>\n",
       "      <td>2.403000</td>\n",
       "    </tr>\n",
       "    <tr>\n",
       "      <th>75%</th>\n",
       "      <td>19.182250</td>\n",
       "      <td>19.760000</td>\n",
       "      <td>0.630260</td>\n",
       "      <td>3.300000e-06</td>\n",
       "      <td>6000.442110</td>\n",
       "      <td>0.612000</td>\n",
       "      <td>0.458000</td>\n",
       "      <td>4.400000</td>\n",
       "      <td>0.351000</td>\n",
       "      <td>2.714000</td>\n",
       "    </tr>\n",
       "    <tr>\n",
       "      <th>max</th>\n",
       "      <td>20.419000</td>\n",
       "      <td>21.303000</td>\n",
       "      <td>0.975487</td>\n",
       "      <td>1.065000e-04</td>\n",
       "      <td>6000.920100</td>\n",
       "      <td>1.053000</td>\n",
       "      <td>0.654000</td>\n",
       "      <td>5.161000</td>\n",
       "      <td>0.589000</td>\n",
       "      <td>5.795000</td>\n",
       "    </tr>\n",
       "  </tbody>\n",
       "</table>\n",
       "</div>"
      ],
      "text/plain": [
       "       magnitude_Iband  magnitude_Vband       period  period_uncertainty  \\\n",
       "count      4748.000000      4748.000000  4748.000000        4.748000e+03   \n",
       "mean         18.839039        19.415382     0.596560        2.803875e-06   \n",
       "std           0.906234         0.915491     0.057343        3.421723e-06   \n",
       "min          12.048000        12.632000     0.374290        1.000000e-07   \n",
       "25%          18.918000        19.489000     0.561476        1.200000e-06   \n",
       "50%          19.062000        19.637000     0.596877        2.000000e-06   \n",
       "75%          19.182250        19.760000     0.630260        3.300000e-06   \n",
       "max          20.419000        21.303000     0.975487        1.065000e-04   \n",
       "\n",
       "       time_max_bright  amplitude_Iband          R21        phi21  \\\n",
       "count      4748.000000      4748.000000  4748.000000  4748.000000   \n",
       "mean       6000.297409         0.504458     0.419089     4.294047   \n",
       "std           0.175088         0.153931     0.060421     0.189534   \n",
       "min        6000.000020         0.025000     0.125000     3.206000   \n",
       "25%        6000.148912         0.393000     0.382000     4.163750   \n",
       "50%        6000.294415         0.497000     0.421000     4.266000   \n",
       "75%        6000.442110         0.612000     0.458000     4.400000   \n",
       "max        6000.920100         1.053000     0.654000     5.161000   \n",
       "\n",
       "               R31        phi31  \n",
       "count  4748.000000  4748.000000  \n",
       "mean      0.297968     2.460209  \n",
       "std       0.070244     0.423121  \n",
       "min       0.024000     0.395000  \n",
       "25%       0.255000     2.158000  \n",
       "50%       0.310000     2.403000  \n",
       "75%       0.351000     2.714000  \n",
       "max       0.589000     5.795000  "
      ]
     },
     "execution_count": 1,
     "metadata": {},
     "output_type": "execute_result"
    }
   ],
   "source": [
    "import pandas as pd\n",
    "import numpy as np\n",
    "\n",
    "data_file = \"~/Documents/ogle/ogle4/smc/RRab.csv\"\n",
    "data = pd.read_csv(data_file).dropna()\n",
    "\n",
    "del data[\"id\"]\n",
    "data.describe()"
   ]
  },
  {
   "cell_type": "code",
   "execution_count": 2,
   "metadata": {
    "collapsed": true
   },
   "outputs": [],
   "source": [
    "from sklearn import linear_model\n",
    "from sklearn import pipeline\n",
    "from sklearn import preprocessing"
   ]
  },
  {
   "cell_type": "code",
   "execution_count": 3,
   "metadata": {
    "collapsed": false
   },
   "outputs": [],
   "source": [
    "from sklearn.model_selection import train_test_split\n",
    "\n",
    "# Partition the training and test data\n",
    "full_x = data.as_matrix([\"period\", \"amplitude_Iband\"])\n",
    "full_y = data.as_matrix([\"phi31\"])\n",
    "\n",
    "X_train, X_test, y_train, y_test = train_test_split(full_x, full_y, test_size = 0.20, random_state = 42)\n",
    "\n",
    "train = pd.DataFrame(np.hstack([X_train, y_train]), columns = [\"period\", \"amplitude_Iband\", \"phi31\"])\n",
    "\n",
    "train_norm = pd.DataFrame(\n",
    "    preprocessing.scale(train)\n",
    "    , columns = [\"period\", \"amplitude_Iband\", \"phi31\"])"
   ]
  },
  {
   "cell_type": "code",
   "execution_count": 4,
   "metadata": {
    "collapsed": false
   },
   "outputs": [
    {
     "data": {
      "text/plain": [
       "OneClassSVM(cache_size=200, coef0=0.0, degree=3, gamma='auto', kernel='rbf',\n",
       "      max_iter=-1, nu=0.5, random_state=None, shrinking=True, tol=0.001,\n",
       "      verbose=False)"
      ]
     },
     "execution_count": 4,
     "metadata": {},
     "output_type": "execute_result"
    }
   ],
   "source": [
    "from sklearn import svm\n",
    "\n",
    "# Train the SVM\n",
    "svm_novelty = svm.OneClassSVM()\n",
    "svm_novelty.fit(train_norm.as_matrix())"
   ]
  },
  {
   "cell_type": "code",
   "execution_count": 5,
   "metadata": {
    "collapsed": false
   },
   "outputs": [],
   "source": [
    "# Find the novelty and regular data points\n",
    "train[\"svm_pred\"] = svm_novelty.predict(train_norm)\n",
    "\n",
    "regular_svm = train[train[\"svm_pred\"] == 1.0]\n",
    "novelty_svm = train[train[\"svm_pred\"] == -1.0]"
   ]
  },
  {
   "cell_type": "code",
   "execution_count": 6,
   "metadata": {
    "collapsed": false
   },
   "outputs": [
    {
     "name": "stdout",
     "output_type": "stream",
     "text": [
      "Cross Validation\n",
      "Mean: 0.441432847608\n",
      "Std:  0.0432585208297\n"
     ]
    },
    {
     "data": {
      "text/plain": [
       "Pipeline(steps=[('polynomial_features', PolynomialFeatures(degree=2, include_bias=False, interaction_only=False)), ('linear_regression', LinearRegression(copy_X=True, fit_intercept=True, n_jobs=1, normalize=False))])"
      ]
     },
     "execution_count": 6,
     "metadata": {},
     "output_type": "execute_result"
    }
   ],
   "source": [
    "# Setup for the polynomial regression\n",
    "d_svm = 2\n",
    "poly_svm = preprocessing.PolynomialFeatures(degree = d_svm, include_bias = False)\n",
    "reg_svm = linear_model.LinearRegression()\n",
    "model_svm = pipeline.Pipeline([(\"polynomial_features\", poly_svm), (\"linear_regression\", reg_svm)])\n",
    "\n",
    "# Perform the polynomial regression using cross validation\n",
    "from sklearn.model_selection import cross_val_score\n",
    "\n",
    "x_svm = regular_svm.as_matrix([\"period\", \"amplitude_Iband\"])\n",
    "y_svm = regular_svm.as_matrix([\"phi31\"])\n",
    "\n",
    "scores = cross_val_score(model_svm, X_train, y_train, cv=5)\n",
    "print(\"Cross Validation\\n\" + \"Mean: \" + str(scores.mean()) + \"\\nStd:  \" + str(scores.std()))\n",
    "\n",
    "model_svm.fit(x_svm, y_svm)"
   ]
  },
  {
   "cell_type": "code",
   "execution_count": 7,
   "metadata": {
    "collapsed": false
   },
   "outputs": [
    {
     "name": "stdout",
     "output_type": "stream",
     "text": [
      "Test Score: 0.451286269254\n"
     ]
    }
   ],
   "source": [
    "print(\"Test Score: \" + str(model_svm.score(X_test, y_test)))"
   ]
  }
 ],
 "metadata": {
  "kernelspec": {
   "display_name": "Python 3",
   "language": "python",
   "name": "python3"
  },
  "language_info": {
   "codemirror_mode": {
    "name": "ipython",
    "version": 3
   },
   "file_extension": ".py",
   "mimetype": "text/x-python",
   "name": "python",
   "nbconvert_exporter": "python",
   "pygments_lexer": "ipython3",
   "version": "3.5.2"
  }
 },
 "nbformat": 4,
 "nbformat_minor": 2
}
